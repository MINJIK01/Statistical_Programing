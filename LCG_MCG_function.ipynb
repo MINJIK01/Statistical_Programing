{
 "cells": [
  {
   "cell_type": "markdown",
   "id": "24cc84e7",
   "metadata": {},
   "source": [
    "## Linear Congruential Generator"
   ]
  },
  {
   "cell_type": "markdown",
   "id": "aff34d43",
   "metadata": {},
   "source": [
    "### Import library"
   ]
  },
  {
   "cell_type": "code",
   "execution_count": 42,
   "id": "559a0cc7",
   "metadata": {},
   "outputs": [],
   "source": [
    "from time import time\n",
    "import random"
   ]
  },
  {
   "cell_type": "code",
   "execution_count": 43,
   "id": "62ef2b1c",
   "metadata": {},
   "outputs": [],
   "source": [
    "# for 32 bit computer\n",
    "def LCG(n):\n",
    "    # set variable\n",
    "    a = 1664525\n",
    "    c = 1013904223\n",
    "    m = 2**32\n",
    "    \n",
    "    x0 = (a*time() + c) % m # set seed\n",
    "    \n",
    "    random_number = [] # list for saving r.n.\n",
    "    random_number.append(x0) # save the inital value\n",
    "    \n",
    "    # loop for generating\n",
    "    for i in range(n):\n",
    "        next_x = (a*random_number[i] + c) % m\n",
    "        random_number.append(next_x)\n",
    "    \n",
    "    return random_number\n",
    "        "
   ]
  },
  {
   "cell_type": "code",
   "execution_count": 49,
   "id": "d81fdfa0",
   "metadata": {
    "scrolled": true
   },
   "outputs": [
    {
     "data": {
      "text/plain": [
       "[4001801402.0,\n",
       " 353463505.0,\n",
       " 3759521788.0,\n",
       " 128195371.0,\n",
       " 2848618126.0,\n",
       " 449940629.0,\n",
       " 3517150448.0,\n",
       " 1841529743.0,\n",
       " 2394856354.0,\n",
       " 2700175001.0,\n",
       " 2625838884.0]"
      ]
     },
     "execution_count": 49,
     "metadata": {},
     "output_type": "execute_result"
    }
   ],
   "source": [
    "random.seed(2023)\n",
    "LCG(10)"
   ]
  },
  {
   "cell_type": "markdown",
   "id": "9e3098b2",
   "metadata": {},
   "source": [
    "## Multiplicative Congruential Generator"
   ]
  },
  {
   "cell_type": "markdown",
   "id": "5b1fb12e",
   "metadata": {},
   "source": [
    "#### The multiplicative congruential generator, often abbreviated as MLCG or MCG, is defined as a recurrence relation similar to the LCG with c=0."
   ]
  },
  {
   "cell_type": "code",
   "execution_count": 45,
   "id": "c26b4dea",
   "metadata": {},
   "outputs": [],
   "source": [
    "# for 32 bit computer\n",
    "def MCG(n):\n",
    "    # set variable\n",
    "    a = 1664525\n",
    "    c = 0\n",
    "    m = 2**32\n",
    "    \n",
    "    x0 = (a*time() + c) % m # set seed\n",
    "    \n",
    "    random_number = [] # list for saving r.n.\n",
    "    random_number.append(x0) # save the inital value\n",
    "    \n",
    "    # loop for generating\n",
    "    for i in range(n):\n",
    "        next_x = (a*random_number[i] + c) % m\n",
    "        random_number.append(next_x)\n",
    "    \n",
    "    return random_number\n",
    "        "
   ]
  },
  {
   "cell_type": "code",
   "execution_count": 46,
   "id": "bb596773",
   "metadata": {},
   "outputs": [
    {
     "data": {
      "text/plain": [
       "[2982379009.5,\n",
       " 960986900.0,\n",
       " 3459738628.0,\n",
       " 440276020.0,\n",
       " 172474020.0,\n",
       " 3114141268.0,\n",
       " 29346372.0,\n",
       " 1106795892.0,\n",
       " 1865217764.0,\n",
       " 2884329876.0,\n",
       " 189328516.0]"
      ]
     },
     "execution_count": 46,
     "metadata": {},
     "output_type": "execute_result"
    }
   ],
   "source": [
    "random.seed(2023)\n",
    "MCG(10)"
   ]
  }
 ],
 "metadata": {
  "kernelspec": {
   "display_name": "Python 3 (ipykernel)",
   "language": "python",
   "name": "python3"
  },
  "language_info": {
   "codemirror_mode": {
    "name": "ipython",
    "version": 3
   },
   "file_extension": ".py",
   "mimetype": "text/x-python",
   "name": "python",
   "nbconvert_exporter": "python",
   "pygments_lexer": "ipython3",
   "version": "3.9.13"
  }
 },
 "nbformat": 4,
 "nbformat_minor": 5
}
